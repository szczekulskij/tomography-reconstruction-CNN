{
 "cells": [
  {
   "cell_type": "code",
   "execution_count": 1,
   "metadata": {},
   "outputs": [],
   "source": [
    "import numpy as np\n",
    "import pandas as pd\n",
    "from random import randint\n",
    "import math\n",
    "from PIL import Image, ImageDraw\n",
    "from PIL import ImagePath \n",
    "from imutils import rotate\n",
    "import matplotlib.pyplot as plt\n",
    "from skimage.transform import radon\n",
    "\n",
    "\n",
    "# from dataset_generator import generate_polygon, calculate_angles\n",
    "from dataset_generator import create_dataset #, generate_polygon, generate_polygon_subroutine\n",
    "from utils import mse_error, reconstruct"
   ]
  },
  {
   "cell_type": "code",
   "execution_count": 2,
   "metadata": {},
   "outputs": [],
   "source": [
    "images_list, sinograms_list, angles_list = create_dataset(10, single_side_size = 4, img_size = 256 * 2)\n",
    "reconstruct_list = reconstruct(sinograms_list)\n",
    "print(\"average mse error for 10 square pics:\", mse_error(images_list, reconstruct_list))\n",
    "f, axarr = plt.subplots(2,3)\n",
    "axarr[0,0].imshow(images_list[0]) \n",
    "axarr[0,1].imshow(sinograms_list[0])\n",
    "axarr[0,2].imshow(reconstruct_list[0])\n",
    "axarr[1,0].imshow(images_list[1])\n",
    "axarr[1,1].imshow(sinograms_list[1])\n",
    "axarr[1,2].imshow(reconstruct_list[1])\n"
   ]
  },
  {
   "cell_type": "code",
   "execution_count": null,
   "metadata": {},
   "outputs": [],
   "source": [
    "images_list, sinograms_list, angles_list = create_dataset(50, single_side_size = None, img_size = 256 * 2)\n",
    "reconstruct_list = reconstruct(sinograms_list)\n",
    "print(\"average mse error for 50 polygon-shaped pics:\", mse_error(images_list, reconstruct_list))\n",
    "f, axarr = plt.subplots(2,3)\n",
    "axarr[0,0].imshow(images_list[0]) \n",
    "axarr[0,1].imshow(sinograms_list[0])\n",
    "axarr[0,2].imshow(reconstruct_list[0])\n",
    "axarr[1,0].imshow(images_list[1])\n",
    "axarr[1,1].imshow(sinograms_list[1])\n",
    "axarr[1,2].imshow(reconstruct_list[1])"
   ]
  },
  {
   "cell_type": "code",
   "execution_count": null,
   "metadata": {},
   "outputs": [],
   "source": []
  }
 ],
 "metadata": {
  "interpreter": {
   "hash": "5be9a1ef980fc82f6e3ee0b8dcc57a58d082290cbbab67be1dbe077ae003b56a"
  },
  "kernelspec": {
   "display_name": "Python 3.9.13 ('eat-M3yaJFRH')",
   "language": "python",
   "name": "python3"
  },
  "language_info": {
   "codemirror_mode": {
    "name": "ipython",
    "version": 3
   },
   "file_extension": ".py",
   "mimetype": "text/x-python",
   "name": "python",
   "nbconvert_exporter": "python",
   "pygments_lexer": "ipython3",
   "version": "3.7.13"
  },
  "orig_nbformat": 4
 },
 "nbformat": 4,
 "nbformat_minor": 2
}
