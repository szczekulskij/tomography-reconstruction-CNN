{
 "cells": [
  {
   "cell_type": "code",
   "execution_count": null,
   "metadata": {},
   "outputs": [],
   "source": [
    "import sys  \n",
    "sys.path.insert(0, '/Users/szczekulskij/side_projects/research_projects/tomography-reconstruction-CNN')\n",
    "\n",
    "import numpy as np\n",
    "import pandas as pd\n",
    "from src.mock_dataset_generator import create_dataset #, generate_polygon, generate_polygon_subroutine"
   ]
  },
  {
   "cell_type": "code",
   "execution_count": null,
   "metadata": {},
   "outputs": [],
   "source": [
    "images_list, sinograms_list, angles_list = create_dataset(10, single_side_size = 6, img_size = 128)"
   ]
  },
  {
   "cell_type": "code",
   "execution_count": null,
   "metadata": {},
   "outputs": [],
   "source": [
    "def backproject(sinogram, theta):\n",
    "    \"\"\"Backprojection function. \n",
    "    inputs:  sinogram - [n x m] numpy array where n is the number of projections and m the number of angles\n",
    "             theta - vector of length m denoting the angles represented in the sinogram\n",
    "    output: backprojArray - [n x n] backprojected 2-D numpy array\"\"\"\n",
    "\n",
    "    imageLen = sinogram.shape[0] #sinogram : [n x m] , so imageLen = n(height)\n",
    "    reconMatrix = np.zeros((imageLen, imageLen)) \n",
    "    \n",
    "    x = np.arange(imageLen)-imageLen/2 \n",
    "    y = x.copy()\n",
    "    X, Y = np.meshgrid(x, y) \n",
    "\n",
    "    plt.ion() \n",
    "    fig2, ax = plt.subplots() \n",
    "    im = plt.imshow(reconMatrix, cmap='gray') \n",
    "\n",
    "    theta = theta*np.pi/180 \n",
    "    numAngles = len(theta)\n",
    "\n",
    "    for n in range(numAngles):\n",
    "        Xrot = X*np.sin(theta[n])-Y*np.cos(theta[n]) \n",
    "        XrotCor = np.round(Xrot+imageLen/2) \n",
    "                                            \n",
    "        XrotCor = XrotCor.astype('int') \n",
    "        projMatrix = np.zeros((imageLen, imageLen)) \n",
    "        m0, m1 = np.where((XrotCor >= 0) & (XrotCor <= (imageLen-1))) \n",
    "                                                                      \n",
    "\n",
    "        s = sinogram[:,n] \n",
    "        projMatrix[m0, m1] = s[XrotCor[m0, m1]] \n",
    "        reconMatrix += projMatrix\n",
    "        im.set_data(Image.fromarray((reconMatrix-np.min(reconMatrix))/np.ptp(reconMatrix)*255)) \n",
    "                                                                                                \n",
    "        ax.set_title('Theta = %.2f degrees' % (theta[n]*180/np.pi))\n",
    "        fig2.canvas.draw()\n",
    "        fig2.canvas.flush_events()\n",
    "         \n",
    "    plt.close()\n",
    "    plt.ioff()\n",
    "    backprojArray = np.flipud(reconMatrix) \n",
    "    return backprojArray\n"
   ]
  }
 ],
 "metadata": {
  "kernelspec": {
   "display_name": "Python 3 (ipykernel)",
   "language": "python",
   "name": "python3"
  },
  "language_info": {
   "codemirror_mode": {
    "name": "ipython",
    "version": 3
   },
   "file_extension": ".py",
   "mimetype": "text/x-python",
   "name": "python",
   "nbconvert_exporter": "python",
   "pygments_lexer": "ipython3",
   "version": "3.10.9"
  },
  "vscode": {
   "interpreter": {
    "hash": "3a3e0fcaeb6791819790a85e8ae28fe4f899dbea5cdd44defe6841877eab1079"
   }
  }
 },
 "nbformat": 4,
 "nbformat_minor": 4
}
