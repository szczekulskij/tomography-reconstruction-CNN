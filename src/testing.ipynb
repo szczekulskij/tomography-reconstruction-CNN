{
 "cells": [
  {
   "cell_type": "code",
   "execution_count": 1,
   "metadata": {},
   "outputs": [],
   "source": [
    "import numpy as np\n",
    "import pandas as pd\n",
    "from random import randint\n",
    "import math\n",
    "from PIL import Image, ImageDraw\n",
    "from PIL import ImagePath "
   ]
  },
  {
   "cell_type": "code",
   "execution_count": 2,
   "metadata": {},
   "outputs": [],
   "source": [
    "def generate_polygon(\n",
    "    N = 2, # nr of sides/2\n",
    "    ROTATED = True,\n",
    "    RANDOMLY_PLACE = True,\n",
    "    NOISE = False,\n",
    "    pct_size_range = [20,80], # What % size of the picture can the polygon take ?\n",
    "    img_size = 64\n",
    "    ):\n",
    "    pass"
   ]
  },
  {
   "cell_type": "code",
   "execution_count": 33,
   "metadata": {},
   "outputs": [],
   "source": [
    "n = 2\n",
    "rotated = True\n",
    "randomly_placed = True\n",
    "noise = False\n",
    "pct_size_range = [30,90]\n",
    "img_size = 64"
   ]
  },
  {
   "cell_type": "code",
   "execution_count": 68,
   "metadata": {},
   "outputs": [],
   "source": [
    "PADDING = 1\n",
    "side_size_range = [round(i/100 * img_size/2) for i in pct_size_range]\n",
    "assert len(side_size_range) == 2\n",
    "side_size = randint(*side_size_range)\n",
    "rotation = randint(0,90) if rotated else 0\n",
    "\n",
    "# if not randomly_placed:\n",
    "#     starting_points = 2*[img_size - (square_size/2)]\n",
    "# else :\n",
    "#     starting_points = [randint(PADDING, img_size - square_size - PADDING), randint(PADDING, img_size - square_size - PADDING)]\n",
    "# assert len(starting_points) == 2\n",
    "\n",
    "\n",
    "\n",
    "side = 6 # n\n",
    "coordinates = [\n",
    "    (round((math.cos(th) + 1) * side_size),\n",
    "     round((math.sin(th) + 1) * side_size))\n",
    "    for th in [i * (2 * math.pi) / side for i in range(side)]\n",
    "    ]  \n",
    "\n",
    "if randomly_placed:\n",
    "    x_offset = randint(PADDING, img_size - side_size * 2 - PADDING)\n",
    "    y_offset = randint(PADDING, img_size - side_size * 2 - PADDING)\n",
    "    coordinates_before = coordinates\n",
    "    coordinates = [(x + x_offset, y + y_offset)for x,y in coordinates]\n",
    "else:\n",
    "    # recenter\n",
    "    pass\n",
    "  \n",
    "image = ImagePath.Path(coordinates).getbbox()  \n",
    "size = list(map(int, map(math.ceil, image[2:])))\n",
    "img = Image.new(\"RGB\", (img_size, img_size)) \n",
    "img1 = ImageDraw.Draw(img)  \n",
    "img1.polygon(coordinates, fill = 200) \n",
    "  \n",
    "img.show()"
   ]
  }
 ],
 "metadata": {
  "interpreter": {
   "hash": "5be9a1ef980fc82f6e3ee0b8dcc57a58d082290cbbab67be1dbe077ae003b56a"
  },
  "kernelspec": {
   "display_name": "Python 3.9.13 ('eat-M3yaJFRH')",
   "language": "python",
   "name": "python3"
  },
  "language_info": {
   "codemirror_mode": {
    "name": "ipython",
    "version": 3
   },
   "file_extension": ".py",
   "mimetype": "text/x-python",
   "name": "python",
   "nbconvert_exporter": "python",
   "pygments_lexer": "ipython3",
   "version": "3.7.13"
  },
  "orig_nbformat": 4
 },
 "nbformat": 4,
 "nbformat_minor": 2
}
