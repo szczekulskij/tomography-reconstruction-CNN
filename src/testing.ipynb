{
 "cells": [
  {
   "cell_type": "code",
   "execution_count": 1,
   "metadata": {},
   "outputs": [],
   "source": [
    "import numpy as np\n",
    "import pandas as pd\n",
    "from random import randint\n",
    "import math\n",
    "from PIL import Image, ImageDraw\n",
    "from PIL import ImagePath \n",
    "from imutils import rotate\n",
    "import matplotlib.pyplot as plt\n",
    "\n",
    "from dataset_generator import generate_polygon"
   ]
  },
  {
   "cell_type": "code",
   "execution_count": 33,
   "metadata": {},
   "outputs": [
    {
     "data": {
      "text/plain": [
       "<matplotlib.image.AxesImage at 0x11f888a10>"
      ]
     },
     "execution_count": 33,
     "metadata": {},
     "output_type": "execute_result"
    },
    {
     "data": {
      "image/png": "[encoded data removed]",
      "text/plain": [
       "<Figure size 640x480 with 1 Axes>"
      ]
     },
     "metadata": {},
     "output_type": "display_data"
    }
   ],
   "source": [
    "img, rotation_angle = generate_polygon(\n",
    "                        side = 5, # nr of sides/2\n",
    "                        rotated = 24,\n",
    "                        randomly_placed = True,\n",
    "                        noise = False,\n",
    "                        pct_size_range = [20,80], # What % size of the picture can the polygon take ?\n",
    "                        img_size = 256)\n",
    "\n",
    "plt.imshow(img)"
   ]
  },
  {
   "cell_type": "code",
   "execution_count": 34,
   "metadata": {},
   "outputs": [],
   "source": [
    "def calculate_angles(side, rotation_angle):\n",
    "    if side == 4:\n",
    "        # start_angle = 45\n",
    "        angles = [45, 135]\n",
    "    elif side == 5:\n",
    "        # start_angle = 18\n",
    "        angles = [18, 90, 162]\n",
    "    elif side == 6:\n",
    "        # start_angle = 0\n",
    "        angles = [0, 60, 120, 180]\n",
    "\n",
    "    post_rotation_angles = [round((i + rotation_angle) % 180) for i in angles]\n",
    "    return post_rotation_angles\n",
    "        \n"
   ]
  },
  {
   "cell_type": "code",
   "execution_count": null,
   "metadata": {},
   "outputs": [],
   "source": []
  }
 ],
 "metadata": {
  "interpreter": {
   "hash": "5be9a1ef980fc82f6e3ee0b8dcc57a58d082290cbbab67be1dbe077ae003b56a"
  },
  "kernelspec": {
   "display_name": "Python 3.9.13 ('eat-M3yaJFRH')",
   "language": "python",
   "name": "python3"
  },
  "language_info": {
   "codemirror_mode": {
    "name": "ipython",
    "version": 3
   },
   "file_extension": ".py",
   "mimetype": "text/x-python",
   "name": "python",
   "nbconvert_exporter": "python",
   "pygments_lexer": "ipython3",
   "version": "3.7.13"
  },
  "orig_nbformat": 4
 },
 "nbformat": 4,
 "nbformat_minor": 2
}
