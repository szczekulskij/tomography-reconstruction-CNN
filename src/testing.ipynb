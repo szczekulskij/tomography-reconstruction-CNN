{
 "cells": [
  {
   "cell_type": "code",
   "execution_count": 1,
   "metadata": {},
   "outputs": [],
   "source": [
    "import numpy as np\n",
    "import pandas as pd\n",
    "from random import randint\n",
    "import math\n",
    "from PIL import Image, ImageDraw\n",
    "from PIL import ImagePath \n",
    "from imutils import rotate\n",
    "import matplotlib.pyplot as plt\n",
    "\n",
    "from dataset_generator import generate_polygon, calculate_angles"
   ]
  },
  {
   "cell_type": "code",
   "execution_count": 2,
   "metadata": {},
   "outputs": [
    {
     "data": {
      "text/plain": [
       "<matplotlib.image.AxesImage at 0x123975990>"
      ]
     },
     "execution_count": 2,
     "metadata": {},
     "output_type": "execute_result"
    },
    {
     "data": {
      "image/png": "[encoded data removed]",
      "text/plain": [
       "<Figure size 640x480 with 1 Axes>"
      ]
     },
     "metadata": {},
     "output_type": "display_data"
    }
   ],
   "source": [
    "img, rotation_angle = generate_polygon(\n",
    "                        side = 5, # nr of sides/2\n",
    "                        rotated = 24,\n",
    "                        randomly_placed = True,\n",
    "                        noise = False,\n",
    "                        pct_size_range = [20,80], # What % size of the picture can the polygon take ?\n",
    "                        img_size = 256)\n",
    "\n",
    "plt.imshow(img)"
   ]
  },
  {
   "cell_type": "code",
   "execution_count": 3,
   "metadata": {},
   "outputs": [],
   "source": [
    "def create_dataset(\n",
    "    nr = 100,\n",
    "    single_side_size = None\n",
    "    ):\n",
    "    assert type(single_side_size) in [None, int]\n",
    "\n",
    "    images_list = []\n",
    "    sinograms_list = []\n",
    "    angles_list = []\n",
    "\n",
    "    for _ in nr:\n",
    "        pass\n"
   ]
  },
  {
   "cell_type": "code",
   "execution_count": null,
   "metadata": {},
   "outputs": [],
   "source": []
  }
 ],
 "metadata": {
  "interpreter": {
   "hash": "5be9a1ef980fc82f6e3ee0b8dcc57a58d082290cbbab67be1dbe077ae003b56a"
  },
  "kernelspec": {
   "display_name": "Python 3.9.13 ('eat-M3yaJFRH')",
   "language": "python",
   "name": "python3"
  },
  "language_info": {
   "codemirror_mode": {
    "name": "ipython",
    "version": 3
   },
   "file_extension": ".py",
   "mimetype": "text/x-python",
   "name": "python",
   "nbconvert_exporter": "python",
   "pygments_lexer": "ipython3",
   "version": "3.7.13"
  },
  "orig_nbformat": 4
 },
 "nbformat": 4,
 "nbformat_minor": 2
}
