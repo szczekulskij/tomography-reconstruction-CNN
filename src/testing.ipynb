{
 "cells": [
  {
   "cell_type": "code",
   "execution_count": 1,
   "metadata": {},
   "outputs": [],
   "source": [
    "import numpy as np\n",
    "import pandas as pd\n",
    "from random import randint\n",
    "import math\n",
    "from PIL import Image, ImageDraw\n",
    "from PIL import ImagePath \n",
    "from imutils import rotate\n",
    "import matplotlib.pyplot as plt\n",
    "from skimage.transform import radon\n",
    "\n",
    "\n",
    "# from dataset_generator import generate_polygon, calculate_angles\n",
    "from dataset_generator import create_dataset"
   ]
  },
  {
   "cell_type": "code",
   "execution_count": null,
   "metadata": {},
   "outputs": [],
   "source": [
    "images_list, sinograms_list, angles_list = create_dataset(200, single_side_size = 4)"
   ]
  },
  {
   "cell_type": "code",
   "execution_count": null,
   "metadata": {},
   "outputs": [],
   "source": [
    "plt.imshow(images_list[0])\n",
    "plt.imshow(sinograms_list[0])"
   ]
  }
 ],
 "metadata": {
  "interpreter": {
   "hash": "5be9a1ef980fc82f6e3ee0b8dcc57a58d082290cbbab67be1dbe077ae003b56a"
  },
  "kernelspec": {
   "display_name": "Python 3.9.13 ('eat-M3yaJFRH')",
   "language": "python",
   "name": "python3"
  },
  "language_info": {
   "codemirror_mode": {
    "name": "ipython",
    "version": 3
   },
   "file_extension": ".py",
   "mimetype": "text/x-python",
   "name": "python",
   "nbconvert_exporter": "python",
   "pygments_lexer": "ipython3",
   "version": "3.7.13"
  },
  "orig_nbformat": 4
 },
 "nbformat": 4,
 "nbformat_minor": 2
}
