{
 "cells": [
  {
   "cell_type": "markdown",
   "metadata": {},
   "source": [
    "# Imports"
   ]
  },
  {
   "cell_type": "code",
   "execution_count": 1,
   "metadata": {},
   "outputs": [],
   "source": [
    "import numpy as np\n",
    "import pandas as pd\n",
    "import matplotlib.pyplot as plt \n",
    "import matplotlib.cm as cm\n",
    "\n",
    "from random import randint\n",
    "from random import choice\n",
    "\n",
    "import torch\n",
    "import torchvision\n",
    "import torchvision.transforms as transforms\n",
    "import torch.nn as nn\n",
    "import torch.nn.functional as F\n",
    "import torch.optim as optim\n",
    "\n",
    "from sklearn.cluster import KMeans\n",
    "from skimage.transform import radon\n",
    "\n",
    "import cv2 \n",
    "import imutils"
   ]
  },
  {
   "cell_type": "markdown",
   "metadata": {},
   "source": [
    "# For the sake of easy checking on the way - visualize fnc"
   ]
  },
  {
   "cell_type": "code",
   "execution_count": 2,
   "metadata": {},
   "outputs": [],
   "source": [
    "def visualize(img) -> \"draws the image\" :\n",
    "    plt.imshow(img, cmap=cm.gray)"
   ]
  },
  {
   "cell_type": "markdown",
   "metadata": {},
   "source": [
    "# The generator function : \n",
    "\n",
    "Firsly we define generator for a single square : \n",
    "* Padding means how much space should be left from the edges \n",
    "* img_size - self explanatory \n",
    "* It outputs the pair of (sinogram, and image)\n",
    "* To generate sinogram we can either use : skimage.transform import radon or my own defined sinogram_fnc\n",
    "\n",
    "2nd function is our entire data generator function\n",
    "* It loops over the single square generator n times\n",
    "* It transforms the data into tensors that fit our model [to fit CNN, we need to have dimensions : ( nr of data points *nr of channels * img_size * img_size ) ]  && for some reason we have to cast the data into float32 [ otherwise called \"double\" ]\n",
    "\n",
    "\n",
    "3rd function is own_sinogram function : \n",
    "* Rotates over the image and saves the x-rays to sinogram array, which it later outputs "
   ]
  },
  {
   "cell_type": "code",
   "execution_count": 3,
   "metadata": {},
   "outputs": [],
   "source": [
    "def single_square_data_generator(img_size = 64, # size of the img\n",
    "                                 padding = 10, # the number of MINIMUM of black spaces around or square - so that it doesnt get cut during rotation\n",
    "                                 own_sinogram_fnc = False,\n",
    "                                     ) -> \" (sinogram ,image) tuple \" :\n",
    "\n",
    "\n",
    "    img = np.zeros((img_size,img_size)) # create an empty image\n",
    "    square_size = randint(3+padding,img_size-3-padding) # generate a random size of a square side\n",
    "    x = randint(1,64-square_size-padding) # left starting point\n",
    "    y = randint(1,64-square_size-padding) # up starting point\n",
    "    \n",
    "    # We got starting point and size of square, now, draw it ! :\n",
    "    for i in range(square_size) : \n",
    "        for j in range(square_size) : \n",
    "            img[x+i,y+j] = 1 \n",
    "            \n",
    "    \n",
    "    #Generate sinogram, either with the library or from own method :\n",
    "    if own_sinogram_fnc :\n",
    "        sinogram = sinogram_fnc(img)\n",
    "    else : \n",
    "        sinogram = radon(img) \n",
    "        \n",
    "    return (sinogram, img)\n",
    "\n",
    "\n",
    "def square_data_generator(n : \"number of data to be generated\",\n",
    "                          img_size : \"size of the square's side\",\n",
    "                          ) -> \" (x,y) where x - list of sinograms, y - list of corresponding images\" :\n",
    "\n",
    "    x, y = [], []    \n",
    "    for _ in range(n):\n",
    "        sinogram, img = single_square_data_generator(img_size)\n",
    "        x.append(sinogram)\n",
    "        y.append(img)\n",
    "        \n",
    "    x = np.array(x)\n",
    "    y = np.array(y)\n",
    "    \n",
    "    #### To make it fit the NN we need to transform these to tensors, change their dimensions, and cast into double [float32]\n",
    "    x = torch.from_numpy(x)\n",
    "    x = x.view(-1,1,64,180)\n",
    "    x = x.to(dtype=torch.float32)\n",
    "    \n",
    "    return (x,y)\n",
    "\n",
    "\n",
    "\n",
    "# My own sinogram function : \n",
    "def sinogram_fnc(img):\n",
    "    side_size = img.shape[1]\n",
    "    \n",
    "    sinogram = np.zeros((side_size,180)) \n",
    "    for i in range(180):\n",
    "        sinogram[: ,i] = np.sum(img, axis = 0)\n",
    "        img = imutils.rotate(img,1)\n",
    "    \n",
    "    img = imutils.rotate(img,180)\n",
    "    return sinogram"
   ]
  },
  {
   "cell_type": "markdown",
   "metadata": {},
   "source": [
    "# Examples with visualization : "
   ]
  },
  {
   "cell_type": "code",
   "execution_count": 34,
   "metadata": {},
   "outputs": [],
   "source": [
    "sinogram, img = square_data_generator(1,64) "
   ]
  },
  {
   "cell_type": "code",
   "execution_count": 35,
   "metadata": {},
   "outputs": [
    {
     "name": "stdout",
     "output_type": "stream",
     "text": [
      "sinogram.shape : torch.Size([1, 1, 64, 180])\n",
      "img.shape : (1, 64, 64)\n"
     ]
    }
   ],
   "source": [
    "print(\"sinogram.shape : {}\".format(sinogram.shape))\n",
    "print(\"img.shape : {}\".format(img.shape))"
   ]
  },
  {
   "cell_type": "markdown",
   "metadata": {},
   "source": [
    "#### As we can see the shapes are \"a bit weird\" since they are made so to fit the model, to visualize and play with them let's make them into 2 dimensions :"
   ]
  },
  {
   "cell_type": "code",
   "execution_count": 36,
   "metadata": {},
   "outputs": [
    {
     "name": "stdout",
     "output_type": "stream",
     "text": [
      "img.shape : (64, 64)\n"
     ]
    },
    {
     "data": {
      "image/png": "[encoded data removed]",
      "text/plain": [
       "<Figure size 432x288 with 1 Axes>"
      ]
     },
     "metadata": {
      "needs_background": "light"
     },
     "output_type": "display_data"
    }
   ],
   "source": [
    "img = img[0]\n",
    "print(\"img.shape : {}\".format(img.shape))\n",
    "visualize(img)"
   ]
  },
  {
   "cell_type": "code",
   "execution_count": 37,
   "metadata": {},
   "outputs": [
    {
     "name": "stdout",
     "output_type": "stream",
     "text": [
      "sinogram.shape : torch.Size([64, 180])\n"
     ]
    },
    {
     "data": {
      "image/png": "[encoded data removed]",
      "text/plain": [
       "<Figure size 432x288 with 1 Axes>"
      ]
     },
     "metadata": {
      "needs_background": "light"
     },
     "output_type": "display_data"
    }
   ],
   "source": [
    "sinogram = sinogram[0,0]\n",
    "print(\"sinogram.shape : {}\".format(sinogram.shape))\n",
    "visualize(sinogram)"
   ]
  },
  {
   "cell_type": "markdown",
   "metadata": {},
   "source": [
    "##### In comparison, sinogram from my own fnc : "
   ]
  },
  {
   "cell_type": "code",
   "execution_count": 38,
   "metadata": {},
   "outputs": [
    {
     "name": "stdout",
     "output_type": "stream",
     "text": [
      "own_sinogram.shape : (64, 180)\n"
     ]
    },
    {
     "data": {
      "image/png": "[encoded data removed]",
      "text/plain": [
       "<Figure size 432x288 with 1 Axes>"
      ]
     },
     "metadata": {
      "needs_background": "light"
     },
     "output_type": "display_data"
    }
   ],
   "source": [
    "own_sinogram = sinogram_fnc(img)\n",
    "print(\"own_sinogram.shape : {}\".format(own_sinogram.shape))\n",
    "visualize(own_sinogram)"
   ]
  },
  {
   "cell_type": "markdown",
   "metadata": {},
   "source": [
    "#### As we can see : sinograms vary a bit, it's most likely because we used [ me vs sckit ] different libraries for rotations and readthroughts.  \n",
    "\n",
    "Therefore maybe it's better to use the same method for reconstruction as is used for data generation ?\n",
    "\n",
    "------------------------------------------------------------------------------------------------------------------------\n",
    "\n",
    "# Reconstruction algorithm & example : \n",
    "\n",
    "#### Reconstructing from the 2 right angles : "
   ]
  },
  {
   "cell_type": "code",
   "execution_count": 41,
   "metadata": {},
   "outputs": [
    {
     "data": {
      "image/png": "[encoded data removed]",
      "text/plain": [
       "<Figure size 432x288 with 1 Axes>"
      ]
     },
     "metadata": {
      "needs_background": "light"
     },
     "output_type": "display_data"
    }
   ],
   "source": [
    "#Get the right angles : 0, 90\n",
    "angle_0 = sinogram[:,0]\n",
    "angle_90 = sinogram[:,90]\n",
    "\n",
    "# These angles are isngle arrays of size 64 [ a side look x-ray like on the data]\n",
    "# We want to add them across and create an image - therefore to do in numpy we add arrays of size [64,1] to [1,64] and we get array 64 x 64 \n",
    "angle_90 = angle_90.view(-1,1).numpy()\n",
    "angle_0 = angle_0.view(1,-1).numpy()\n",
    "\n",
    "# Because it only gives the right answer when i flip it ? idk why !! \n",
    "angle_90 = np.flip(angle_90)\n",
    "#angle_0 = np.flip(angle_0)\n",
    "\n",
    "reconstructed = (angle_0 + angle_90)\n",
    "visualize(reconstructed)"
   ]
  },
  {
   "cell_type": "markdown",
   "metadata": {},
   "source": [
    "# The Full Reconstruction algorithm : \n",
    "\n",
    "\n",
    "* First we define **add_info function** - it add the information to our[at the first step empty] array by rotating the array by x degrees, and then later adding the x-ray information to it\n",
    "\n",
    "\n",
    "* Then we define reconstruct function which iterates over all of our x-rays scans[ here called projections] and updates the information\n",
    "\n",
    "\n",
    "* Worth remembering that rotate function rotates by x angles, not to x angles !! \n",
    "\n",
    "\n",
    "* I decided to store the information about the angle in form of dictionary { angle : x_ray }"
   ]
  },
  {
   "cell_type": "code",
   "execution_count": 42,
   "metadata": {},
   "outputs": [],
   "source": [
    "def add_info(img, # Input image\n",
    "             x,   # The angle number \n",
    "             y,   # The sinogram angle's list [ passed as a tensor ]\n",
    "            ) -> \"updated img\" : \n",
    "    \n",
    "    # Step 1 - Rotate the image \n",
    "    img = imutils.rotate(img, x)\n",
    "    \n",
    "    # Step 2 - Update using the array values\n",
    "    img = img  + y.view(1,-1).numpy()\n",
    "    img = imutils.rotate(img, -x)\n",
    "    return img\n",
    "\n",
    "\n",
    "\n",
    "def reconstruct(size, #size of a image\n",
    "                projections, # Projections should be a dict in form : {angle : [array of values]}\n",
    "               ) -> \"Outputs a reconstructed image\" :\n",
    "    \n",
    "    reconstructed_img = np.zeros((size,size)) # create an empty image\n",
    "    \n",
    "    # Iterate over all of our information  :\n",
    "    for x, y in projections.items():\n",
    "        reconstructed_img = add_info(reconstructed_img, x, y) # x - angle_nr, y - list \n",
    "        \n",
    "    return imutils.rotate(reconstructed_img,90)"
   ]
  },
  {
   "cell_type": "markdown",
   "metadata": {},
   "source": [
    "#### Example with 2 right angles : "
   ]
  },
  {
   "cell_type": "code",
   "execution_count": 44,
   "metadata": {},
   "outputs": [
    {
     "data": {
      "image/png": "[encoded data removed]",
      "text/plain": [
       "<Figure size 432x288 with 1 Axes>"
      ]
     },
     "metadata": {
      "needs_background": "light"
     },
     "output_type": "display_data"
    }
   ],
   "source": [
    "angle_0 = sinogram[:,0]\n",
    "angle_90 = sinogram[:,90]\n",
    "\n",
    "dict_info = {0 : angle_0, 90 : angle_90}\n",
    "visualize(reconstruct(64,dict_info))"
   ]
  },
  {
   "cell_type": "markdown",
   "metadata": {},
   "source": [
    "#### As we can see it works, but not exactly the way it should, and unluckily it gets even worse for 180 angles [ the entire sinogram ] :"
   ]
  },
  {
   "cell_type": "code",
   "execution_count": 45,
   "metadata": {},
   "outputs": [
    {
     "data": {
      "image/png": "[encoded data removed]",
      "text/plain": [
       "<Figure size 432x288 with 1 Axes>"
      ]
     },
     "metadata": {
      "needs_background": "light"
     },
     "output_type": "display_data"
    }
   ],
   "source": [
    "dict_info = {i : sinogram[:,i] for i in range(180)}\n",
    "reconstructed = reconstruct(64,dict_info)\n",
    "visualize(reconstructed)"
   ]
  },
  {
   "cell_type": "markdown",
   "metadata": {},
   "source": [
    "### As we can see the reconstruction isn't exactly the best, and i find it hard to figure out why\n",
    "\n",
    "In the next part i try to visualize pixels which are over some threshold [ maximum of the entire image array ]"
   ]
  },
  {
   "cell_type": "code",
   "execution_count": 57,
   "metadata": {},
   "outputs": [
    {
     "name": "stdout",
     "output_type": "stream",
     "text": [
      "np.amax(reconstructed) : 42.0\n"
     ]
    },
    {
     "data": {
      "image/png": "[encoded data removed]",
      "text/plain": [
       "<Figure size 432x288 with 1 Axes>"
      ]
     },
     "metadata": {
      "needs_background": "light"
     },
     "output_type": "display_data"
    }
   ],
   "source": [
    "print(\"np.amax(reconstructed) : {}\".format(np.amax(reconstructed)))\n",
    "binary_img = np.where(reconstructed>=42, 1, 0)\n",
    "visualize(binary_img)"
   ]
  },
  {
   "cell_type": "markdown",
   "metadata": {},
   "source": [
    "#### Okay, it worked today, but it didn't yesterday - do more testing !! "
   ]
  },
  {
   "cell_type": "markdown",
   "metadata": {},
   "source": [
    "# Comments & Ideas& To-dos :\n",
    "\n",
    "### To-dos : \n",
    "* If we were to teach NN to choose the best angles, using the data generator above, it'd really fast learn to always choose 0 and 90. That's why we'll also need to add rotation to our data generator\n",
    "\n",
    "\n",
    "* We want our data generator to also output the 3rd information - the best angles. Change the program so that it returns the tuple in form : (sinogram, img, [the best angles] ) \n",
    "\n",
    "\n",
    "* Toy with the reconstruction algorithm - see if always works when we use the threshold, if that's the case add the threshold to the reconstruction algorithm\n",
    "\n",
    "\n",
    "* Try out with 3, 10, 15 angles - get the feel of how the reconstruction works [ it might be useful to know for later when we try NN ]\n",
    "\n",
    "\n",
    "* A very small to-dos -> transfer the data cleanly to a python file, so that the generator can be imported from that file ! \n",
    "\n",
    "\n",
    "\n",
    "# Please upload all of the changes and results into github ! "
   ]
  },
  {
   "cell_type": "code",
   "execution_count": null,
   "metadata": {},
   "outputs": [],
   "source": []
  }
 ],
 "metadata": {
  "kernelspec": {
   "display_name": "Python 3",
   "language": "python",
   "name": "python3"
  },
  "language_info": {
   "codemirror_mode": {
    "name": "ipython",
    "version": 3
   },
   "file_extension": ".py",
   "mimetype": "text/x-python",
   "name": "python",
   "nbconvert_exporter": "python",
   "pygments_lexer": "ipython3",
   "version": "3.7.6"
  }
 },
 "nbformat": 4,
 "nbformat_minor": 4
}
