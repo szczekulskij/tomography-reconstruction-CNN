{
 "cells": [
  {
   "cell_type": "markdown",
   "metadata": {},
   "source": [
    "## Imports [ together with importing the generator function from generator.py ]"
   ]
  },
  {
   "cell_type": "code",
   "execution_count": 47,
   "metadata": {},
   "outputs": [],
   "source": [
    "import numpy as np\n",
    "import pandas as pd\n",
    "import matplotlib.pyplot as plt \n",
    "import matplotlib.cm as cm\n",
    "\n",
    "from random import randint\n",
    "from skimage.transform import radon\n",
    "\n",
    "import torch\n",
    "import torchvision\n",
    "import torchvision.transforms as transforms\n",
    "import torch.nn as nn\n",
    "import torch.nn.functional as F\n",
    "import torch.optim as optim\n",
    "\n",
    "from sklearn.cluster import KMeans\n",
    "from kmeans_pytorch import kmeans\n",
    "\n",
    "\n",
    "\n",
    "\n",
    "\n",
    "\n",
    "# Our generator file \n",
    "from generator import single_square_data_generator, \\\n",
    "                      square_data_generator, \\\n",
    "                      sinogram_fnc, \\\n",
    "                      visualize"
   ]
  },
  {
   "cell_type": "markdown",
   "metadata": {},
   "source": [
    "### Generate some data, visualize, check shapes - the usual stuff  :\n",
    "\n",
    "In the CNN_paper they generate 9000 examples, but their data is more complex, so 2000 samples should be enough \n",
    "* Especially since here we don't rotate right ? So data is super simple   "
   ]
  },
  {
   "cell_type": "code",
   "execution_count": 10,
   "metadata": {},
   "outputs": [],
   "source": [
    "sinograms, images, angles = square_data_generator(n = 100, img_size = 91)"
   ]
  },
  {
   "cell_type": "code",
   "execution_count": 11,
   "metadata": {},
   "outputs": [
    {
     "name": "stdout",
     "output_type": "stream",
     "text": [
      "sinograms.shape : torch.Size([100, 1, 91, 180])\n",
      "images.shape : (100, 91, 91)\n"
     ]
    }
   ],
   "source": [
    "print(\"sinograms.shape : {}\".format(sinograms.shape))\n",
    "print(\"images.shape : {}\".format(images.shape))"
   ]
  },
  {
   "cell_type": "code",
   "execution_count": 12,
   "metadata": {},
   "outputs": [
    {
     "name": "stdout",
     "output_type": "stream",
     "text": [
      "sinogram.shape : torch.Size([1, 91, 180])\n",
      "image.shape : (91, 91)\n"
     ]
    }
   ],
   "source": [
    "sinogram = sinograms[0]\n",
    "image = images[0]\n",
    "\n",
    "print(\"sinogram.shape : {}\".format(sinogram.shape))\n",
    "print(\"image.shape : {}\".format(image.shape))"
   ]
  },
  {
   "cell_type": "code",
   "execution_count": 13,
   "metadata": {},
   "outputs": [
    {
     "data": {
      "image/png": "[encoded data removed]",
      "text/plain": [
       "<Figure size 432x288 with 1 Axes>"
      ]
     },
     "metadata": {
      "needs_background": "light"
     },
     "output_type": "display_data"
    }
   ],
   "source": [
    "visualize(sinogram[0])"
   ]
  },
  {
   "cell_type": "code",
   "execution_count": 14,
   "metadata": {},
   "outputs": [
    {
     "data": {
      "image/png": "[encoded data removed]",
      "text/plain": [
       "<Figure size 432x288 with 1 Axes>"
      ]
     },
     "metadata": {
      "needs_background": "light"
     },
     "output_type": "display_data"
    }
   ],
   "source": [
    "visualize(image)"
   ]
  },
  {
   "cell_type": "markdown",
   "metadata": {},
   "source": [
    "## Model time "
   ]
  },
  {
   "cell_type": "code",
   "execution_count": 19,
   "metadata": {},
   "outputs": [],
   "source": [
    "class CNN(nn.Module):\n",
    "    def __init__(self, img_size = 91, chan1 = 5, chan2 = 10, chan3 = 15) :\n",
    "        super(CNN, self).__init__()\n",
    "        \n",
    "        self.final_img_size = int(((img_size-4)//3 - 2) //3 - 2)\n",
    "        \n",
    "        \n",
    "        self.conv1 = nn.Conv2d(1, chan1, 5)\n",
    "        self.conv2 = nn.Conv2d(chan1, chan2, 3)\n",
    "        self.conv3 = nn.Conv2d(chan2, chan3, 3)\n",
    "        self.pool = nn.MaxPool2d(3,3) \n",
    "        \n",
    "        self.fc1 = nn.Linear(15 * 16  * self.final_img_size ,500) # what's the first thing coming in ?\n",
    "        self.fc2 = nn.Linear(500,180) # sigmoid act ! \n",
    "        self.sigmoid = nn.Sigmoid()\n",
    "        \n",
    "        \n",
    "    def forward(self,x) :\n",
    "        x = F.relu(self.conv1(x))\n",
    "        x = self.pool(x)\n",
    "        x = F.relu(self.conv2(x))\n",
    "        x = self.pool(x)\n",
    "        x = F.relu(self.conv3(x))\n",
    "        # x = self.pool(x)\n",
    "        \n",
    "        \n",
    "        # 16 is what 180 becomes after all the operations, if we apply 1 more maxpool(3,3) at the end we 180 becomes 5 instead\n",
    "        # 15 is the number of channels [ chan3 ! ]\n",
    "        \n",
    "        x = x.view(-1, 15 * 16 * self.final_img_size)\n",
    "        x = F.relu(self.fc1(x))\n",
    "        x = self.sigmoid(self.fc2(x)) # SIGMOID ! \n",
    "        return x\n",
    "        \n",
    "        \n",
    "#So the counting will go sth like this \n",
    "# Conv2d(input_chan, output chann) -> The next conv2D has got to have input chan equal to prev output channel\n",
    "# Count the ending size like this : \n",
    "# side_size - kernel_size + 1 -> //2 -> -kernel + 1 -> //2 \n",
    "# What chan size should be used !?"
   ]
  },
  {
   "cell_type": "code",
   "execution_count": 20,
   "metadata": {},
   "outputs": [],
   "source": [
    "Net = CNN()"
   ]
  },
  {
   "cell_type": "code",
   "execution_count": 56,
   "metadata": {},
   "outputs": [
    {
     "name": "stdout",
     "output_type": "stream",
     "text": [
      "probabilities.shape : torch.Size([1, 180])\n"
     ]
    }
   ],
   "source": [
    "# Here, test the forward function - it should output 180 probabilities \n",
    "sinogram, img, angles= square_data_generator(1)\n",
    "\n",
    "probabilities = Net(sinogram) \n",
    "print(\"probabilities.shape : {}\".format(probabilities.shape))"
   ]
  },
  {
   "cell_type": "code",
   "execution_count": 57,
   "metadata": {},
   "outputs": [],
   "source": [
    "def threshold_act_and_kmeans(probabilities, # [1,180] probabilities from 1 image input\n",
    "                             threshold = 0.55,\n",
    "                             clusters_nr = 2) -> \"outputs a list of 2/3/4 cluster centers\" :\n",
    "    \n",
    "    \n",
    "    # Choose all of the x-rays over certain \"threshold\"\n",
    "    x_ray_list = []\n",
    "    for counter, probability in enumerate(probabilities[0]):   # Because probabilities is 2d array in shape [1,180]\n",
    "        if probability >= threshold :\n",
    "            projection = sinogram[0, 0, :, counter]\n",
    "            x_ray_list.append(projection)\n",
    "    \n",
    "    # Chnage our list of tensors into one tensor using torch's stack fnc\n",
    "    x_ray_list = torch.stack(x_ray_list)\n",
    "\n",
    "    # kmeans [ the github implementation ]\n",
    "    cluster_ids_x, cluster_centers = kmeans(X = x_ray_list, num_clusters = clusters_nr, distance = 'euclidean' )\n",
    "\n",
    "    return cluster_centers"
   ]
  },
  {
   "cell_type": "code",
   "execution_count": 58,
   "metadata": {},
   "outputs": [
    {
     "name": "stderr",
     "output_type": "stream",
     "text": [
      "[running kmeans]: 2it [00:00, 362.34it/s, center_shift=0.000000, iteration=2, tol=0.000100]"
     ]
    },
    {
     "name": "stdout",
     "output_type": "stream",
     "text": [
      "running k-means on cpu..\n",
      "\n",
      "output_angles.shape : torch.Size([2, 91])\n"
     ]
    },
    {
     "name": "stderr",
     "output_type": "stream",
     "text": [
      "\n"
     ]
    }
   ],
   "source": [
    "output_angles = threshold_act_and_kmeans(probabilities)\n",
    "print(\"\\noutput_angles.shape : {}\".format(output_angles.shape)) "
   ]
  },
  {
   "cell_type": "markdown",
   "metadata": {},
   "source": [
    "# We got our output - now calculate the loss ! "
   ]
  },
  {
   "cell_type": "code",
   "execution_count": 55,
   "metadata": {},
   "outputs": [],
   "source": [
    "criterion = nn.MSELoss()\n",
    "optimizer = optim.Adam(Net.parameters(), lr=0.001)"
   ]
  },
  {
   "cell_type": "code",
   "execution_count": 60,
   "metadata": {},
   "outputs": [
    {
     "data": {
      "text/plain": [
       "array([[ 0, 90]])"
      ]
     },
     "execution_count": 60,
     "metadata": {},
     "output_type": "execute_result"
    }
   ],
   "source": [
    "# The problem is how exactly do we calculate the loss ? ?\n",
    "# And whether k-means should be part of forward function in the net ? ?\n",
    "\n",
    "# "
   ]
  },
  {
   "cell_type": "code",
   "execution_count": null,
   "metadata": {},
   "outputs": [],
   "source": []
  },
  {
   "cell_type": "code",
   "execution_count": null,
   "metadata": {},
   "outputs": [],
   "source": []
  },
  {
   "cell_type": "code",
   "execution_count": null,
   "metadata": {},
   "outputs": [],
   "source": []
  },
  {
   "cell_type": "markdown",
   "metadata": {},
   "source": [
    "## Define reconstruction function !!! "
   ]
  },
  {
   "cell_type": "code",
   "execution_count": null,
   "metadata": {},
   "outputs": [],
   "source": []
  },
  {
   "cell_type": "markdown",
   "metadata": {},
   "source": [
    "## Some notes & to-dos \n",
    "\n",
    "->Make sure everyhing is in tensors ! Send numpy arrays to tensors ! [ otherwise the backprob wont work properly ! ] \n",
    "\n",
    "->The generator seems to be working fine - later train on rotated images, and add some different types of noise \n",
    "\n",
    "->Why do we use sigmoid ? Instead of Softmax? Softmax would give us probabilities over all of these ! [ Answer - Cause we arent classyfing into single label, we want all 'good' angles [ those with hig prob ]\n",
    "\n",
    "->Do we need to convert y[ img in generator]  to tensor as well? Probs yes so we use GPU to calculate the loss ?\n",
    "\n",
    "->What about normalizing in generator and batch norm layers ? \n",
    "The paper is from 2019, the batch norm has been popular since 2018, so maybe they skipped it on purpose, like in your thesis for simple models? ? \n",
    "\n",
    "->We have to add reconstruction and k-means within the model if we want to feed the batches into it, otherwise we get couple of sinograms but only 1 outputs probabilites, which just doesnt make sense ! \n",
    "\n",
    "->Idea for optimization, as we learn more, we could increase the threshold becaue the model should be more sure about its decisions ??"
   ]
  },
  {
   "cell_type": "code",
   "execution_count": null,
   "metadata": {},
   "outputs": [],
   "source": []
  },
  {
   "cell_type": "code",
   "execution_count": null,
   "metadata": {},
   "outputs": [],
   "source": []
  },
  {
   "cell_type": "code",
   "execution_count": null,
   "metadata": {},
   "outputs": [],
   "source": []
  },
  {
   "cell_type": "code",
   "execution_count": null,
   "metadata": {},
   "outputs": [],
   "source": []
  },
  {
   "cell_type": "code",
   "execution_count": null,
   "metadata": {},
   "outputs": [],
   "source": []
  },
  {
   "cell_type": "code",
   "execution_count": null,
   "metadata": {},
   "outputs": [],
   "source": []
  },
  {
   "cell_type": "code",
   "execution_count": null,
   "metadata": {},
   "outputs": [],
   "source": []
  },
  {
   "cell_type": "code",
   "execution_count": null,
   "metadata": {},
   "outputs": [],
   "source": []
  },
  {
   "cell_type": "code",
   "execution_count": null,
   "metadata": {},
   "outputs": [],
   "source": []
  },
  {
   "cell_type": "code",
   "execution_count": 1,
   "metadata": {},
   "outputs": [
    {
     "name": "stdout",
     "output_type": "stream",
     "text": [
      "5\n"
     ]
    }
   ],
   "source": [
    "from generator import single_square_data_generator, \\\n",
    "                      square_data_generator, \\\n",
    "                      sinogram_fnc, \\\n",
    "                      visualize\n",
    "\n"
   ]
  },
  {
   "cell_type": "code",
   "execution_count": null,
   "metadata": {},
   "outputs": [],
   "source": []
  }
 ],
 "metadata": {
  "kernelspec": {
   "display_name": "Python 3",
   "language": "python",
   "name": "python3"
  },
  "language_info": {
   "codemirror_mode": {
    "name": "ipython",
    "version": 3
   },
   "file_extension": ".py",
   "mimetype": "text/x-python",
   "name": "python",
   "nbconvert_exporter": "python",
   "pygments_lexer": "ipython3",
   "version": "3.7.6"
  }
 },
 "nbformat": 4,
 "nbformat_minor": 4
}
