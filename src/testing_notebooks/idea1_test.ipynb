version https://git-lfs.github.com/spec/v1
oid sha256:a1cc7fb99f96fa02480e1a0d604696d4de8247d48859bb0efd398da4ee24bb51
size 570
