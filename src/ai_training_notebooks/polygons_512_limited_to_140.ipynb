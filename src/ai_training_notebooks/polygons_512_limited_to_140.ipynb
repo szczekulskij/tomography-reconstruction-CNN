version https://git-lfs.github.com/spec/v1
oid sha256:1b23d2c239f4a4afd92c43992622b6069e89010c415abcceb616e430a81059d5
size 199434
