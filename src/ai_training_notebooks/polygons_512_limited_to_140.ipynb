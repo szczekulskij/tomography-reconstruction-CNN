version https://git-lfs.github.com/spec/v1
oid sha256:b99e3a0814ae1e6f77bab88ee6cb70a368f9125659d7680b32933c37d8b89fd0
size 322823
