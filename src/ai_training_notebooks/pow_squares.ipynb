version https://git-lfs.github.com/spec/v1
oid sha256:5a13de0edbe1fd3fd41194cf2d196e1dfd1e1be9bae83c65102f2c4364934499
size 516591
