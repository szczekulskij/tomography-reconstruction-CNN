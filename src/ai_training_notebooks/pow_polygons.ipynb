version https://git-lfs.github.com/spec/v1
oid sha256:52d5130c4358175afde5ab2cff4e43a76fcf6d41c873d2e362cb19d60155ced2
size 199476
